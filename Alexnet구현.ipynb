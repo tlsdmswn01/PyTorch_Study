{
  "nbformat": 4,
  "nbformat_minor": 0,
  "metadata": {
    "colab": {
      "private_outputs": true,
      "provenance": [],
      "gpuType": "T4",
      "authorship_tag": "ABX9TyNTIs9kWoDQuuxMQkgUdi89",
      "include_colab_link": true
    },
    "kernelspec": {
      "name": "python3",
      "display_name": "Python 3"
    },
    "language_info": {
      "name": "python"
    },
    "accelerator": "GPU"
  },
  "cells": [
    {
      "cell_type": "markdown",
      "metadata": {
        "id": "view-in-github",
        "colab_type": "text"
      },
      "source": [
        "<a href=\"https://colab.research.google.com/github/tlsdmswn01/PyTorch_Study/blob/main/Alexnet%EA%B5%AC%ED%98%84.ipynb\" target=\"_parent\"><img src=\"https://colab.research.google.com/assets/colab-badge.svg\" alt=\"Open In Colab\"/></a>"
      ]
    },
    {
      "cell_type": "markdown",
      "source": [
        "## 데이터 준비"
      ],
      "metadata": {
        "id": "JvCvwZISkwwl"
      }
    },
    {
      "cell_type": "code",
      "execution_count": null,
      "metadata": {
        "id": "w8MeylKiecoA"
      },
      "outputs": [],
      "source": [
        "!gdown --id 1iog5aaxqS_U9sOPPAgdIIly8pxSZ1Cf7"
      ]
    },
    {
      "cell_type": "code",
      "source": [
        "!unzip ./data.zip"
      ],
      "metadata": {
        "id": "NtMKkKj7ej_i"
      },
      "execution_count": null,
      "outputs": []
    },
    {
      "cell_type": "code",
      "source": [
        "import os\n",
        "import torch\n",
        "from torch import nn, optim\n",
        "from torch.utils.data import DataLoader, Dataset\n",
        "import torchvision\n",
        "import torchvision.transforms as T\n",
        "from PIL import Image\n",
        "\n",
        "from tqdm import tqdm\n",
        "import numpy as np"
      ],
      "metadata": {
        "id": "lWW93_IZek2A"
      },
      "execution_count": null,
      "outputs": []
    },
    {
      "cell_type": "code",
      "source": [
        "#[[이미지_path],[라벨]] 이렇게 데이터 구성하기\n",
        "#[['/content/training_set/cats/cat.1.jpg'],[0]]\n",
        "class CustomDataset(Dataset):\n",
        "    def __init__(self,root_dir,transform=None):\n",
        "        self.root_dir=root_dir\n",
        "        self.transform = transform\n",
        "        self.classes=os.listdir(root_dir)\n",
        "        self.data=[]\n",
        "\n",
        "\n",
        "        for label in range(len(self.classes)):\n",
        "            class_folder = os.path.join(root_dir,self.classes[label])\n",
        "            for filename in os.listdir(class_folder):\n",
        "                img_path=os.path.join(class_folder,filename)\n",
        "                self.data.append([img_path,label])\n",
        "\n",
        "    def __len__(self):\n",
        "        return len(self.data)\n",
        "\n",
        "    def __getitem__(self,idx):\n",
        "\n",
        "        img_path,label=self.data[idx]\n",
        "\n",
        "        img=Image.open(img_path)\n",
        "\n",
        "        if self.transform:\n",
        "            image=self.transform(img)\n",
        "\n",
        "        return image, label\n"
      ],
      "metadata": {
        "id": "Uhpvuz-dfNUz"
      },
      "execution_count": null,
      "outputs": []
    },
    {
      "cell_type": "code",
      "source": [
        "# 이미지 사이즈가 다 다름\n",
        "img=Image.open('/content/training_set/cats/cat.100.jpg')\n",
        "img.size"
      ],
      "metadata": {
        "id": "5L3MZWj9h9UX"
      },
      "execution_count": null,
      "outputs": []
    },
    {
      "cell_type": "code",
      "source": [
        "batch_size=32\n",
        "learning_rate=0.0001\n",
        "\n",
        "train_transform=T.Compose([\n",
        "    T.Resize((256,256)),\n",
        "    T.CenterCrop((227,227)),\n",
        "    T.RandomHorizontalFlip(0.5),\n",
        "    T.ToTensor(),\n",
        "    T.Normalize(mean=[0.485, 0.456, 0.406], std=[0.229, 0.224, 0.225]) # 이미지 정규화\n",
        "])\n",
        "\n",
        "test_transform=T.Compose([\n",
        "    T.Resize((227,227)),\n",
        "    T.ToTensor(),\n",
        "    T.Normalize(mean=[0.485, 0.456, 0.406], std=[0.229, 0.224, 0.225]) # 이미지 정규화\n",
        "])\n"
      ],
      "metadata": {
        "id": "ccqys3QGh18b"
      },
      "execution_count": null,
      "outputs": []
    },
    {
      "cell_type": "code",
      "source": [
        "train_dataset=CustomDataset('./training_set/',transform=train_transform)\n",
        "train_loader=DataLoader(train_dataset,batch_size=batch_size, drop_last=True, shuffle=True)\n",
        "test_dataset=CustomDataset('./test_set/',transform=train_transform)\n",
        "test_loader=DataLoader(test_dataset,batch_size=batch_size, shuffle=False)"
      ],
      "metadata": {
        "id": "LMKYaPTFhEWC"
      },
      "execution_count": null,
      "outputs": []
    },
    {
      "cell_type": "code",
      "source": [
        "image,label=next(iter(train_loader))\n",
        "print(image.size(0),label)"
      ],
      "metadata": {
        "id": "XiKm-EnQkMeL"
      },
      "execution_count": null,
      "outputs": []
    },
    {
      "cell_type": "markdown",
      "source": [
        "## Alexnet 모델"
      ],
      "metadata": {
        "id": "UC4AUetSlMm8"
      }
    },
    {
      "cell_type": "code",
      "source": [
        "device = torch.device('cuda' if torch.cuda.is_available() else 'cpu')\n",
        "print(device)"
      ],
      "metadata": {
        "id": "eJJ66ZgXkTDr"
      },
      "execution_count": null,
      "outputs": []
    },
    {
      "cell_type": "code",
      "source": [
        "class Alexnet(nn.Module):\n",
        "    def __init__(self):\n",
        "        super(Alexnet,self).__init__()\n",
        "\n",
        "\n",
        "        self.layer=nn.Sequential(\n",
        "            nn.Conv2d(in_channels=3,out_channels=96, kernel_size=(11,11),stride=4),\n",
        "            nn.ReLU(),\n",
        "            nn.MaxPool2d(kernel_size=3,stride=2),\n",
        "\n",
        "            nn.Conv2d(in_channels=96,out_channels=256, kernel_size=(5,5),stride=1,padding=2),\n",
        "            nn.ReLU(),\n",
        "            nn.MaxPool2d(kernel_size=3,stride=2),\n",
        "\n",
        "            nn.Conv2d(in_channels=256,out_channels=384, kernel_size=(3,3),stride=1,padding=1),\n",
        "            nn.ReLU(),\n",
        "            nn.Conv2d(in_channels=384,out_channels=384, kernel_size=(3,3),stride=1,padding=1),\n",
        "            nn.ReLU(),\n",
        "            nn.Conv2d(in_channels=384,out_channels=256, kernel_size=(3,3),stride=1,padding=1),\n",
        "            nn.ReLU(),\n",
        "            nn.MaxPool2d(kernel_size=3,stride=2),\n",
        "        )\n",
        "\n",
        "        self.linear=nn.Sequential(\n",
        "            nn.Dropout(p=0.5),\n",
        "            nn.Linear(6*6*256,4096),\n",
        "            nn.ReLU(),\n",
        "            nn.Dropout(p=0.5),\n",
        "            nn.Linear(4096,4096),\n",
        "            nn.ReLU(),\n",
        "            nn.Linear(4096,1000)\n",
        "        )\n",
        "\n",
        "    def forward(self,x):\n",
        "        x=self.layer(x)\n",
        "        x = x.view(-1, 256*6*6)\n",
        "        x=self.linear(x)\n",
        "        return x\n"
      ],
      "metadata": {
        "id": "PuGJhQpBlDUO"
      },
      "execution_count": null,
      "outputs": []
    },
    {
      "cell_type": "code",
      "source": [
        "import torchsummary\n",
        "model=Alexnet()\n",
        "model.to(device)\n",
        "\n",
        "torchsummary.summary(model,input_size=(3,227,227),device='cuda')"
      ],
      "metadata": {
        "id": "pPEyZ39Porqc"
      },
      "execution_count": null,
      "outputs": []
    },
    {
      "cell_type": "code",
      "source": [
        "optimizer = optim.Adam(model.parameters(),lr=learning_rate)\n",
        "loss_fn = nn.CrossEntropyLoss()"
      ],
      "metadata": {
        "id": "ULkeDRruo4lC"
      },
      "execution_count": null,
      "outputs": []
    },
    {
      "cell_type": "code",
      "source": [
        "def train(train_loader,model,loss_fn,optimizer,device):\n",
        "\n",
        "    model.train()\n",
        "\n",
        "    #Loss와 accuracy 계산 하기\n",
        "    r_size=0\n",
        "    r_loss=0\n",
        "    corr=0\n",
        "\n",
        "    # 예쁘게 Progress Bar를 출력하면서 훈련 상태를 모니터링 하기 위하여 tqdm으로 래핑합\n",
        "    progress_bar=tqdm(train_loader)\n",
        "\n",
        "    for idx, (img,label) in enumerate(progress_bar,start=1):\n",
        "        img,label= img.to(device), label.to(device)\n",
        "\n",
        "        optimizer.zero_grad()\n",
        "        output=model(img)\n",
        "        loss=loss_fn(output,label)\n",
        "        loss.backward()\n",
        "        optimizer.step()\n",
        "\n",
        "        # output결과값의 확률은 무시하고, 인덱스 값만 가져오기\n",
        "        _,pred = output.max(dim=1)\n",
        "\n",
        "        # pred.eq(lbl).sum() 은 정확히 맞춘 label의 합계를 계산. item()은 tensor에서 값을 추출.\n",
        "        # 합계는 corr 변수에 누적\n",
        "        corr+=pred.eq(label).sum().item()\n",
        "\n",
        "        r_loss+=loss.item()*img.size(0)\n",
        "        r_size+=img.size(0)\n",
        "        progress_bar.set_description(f'[Training] loss: {r_loss / r_size:.4f}, accuracy: {corr / r_size:.4f}')\n",
        "\n",
        "    acc=corr/len(train_loader.dataset)\n",
        "\n",
        "    # 평균 손실과 정확도 반\n",
        "    return r_loss/len(train_loader.dataset), acc\n",
        "\n"
      ],
      "metadata": {
        "id": "t2_x909ASOnE"
      },
      "execution_count": null,
      "outputs": []
    },
    {
      "cell_type": "code",
      "source": [
        "def test(test_loader,model,loss_fn,device):\n",
        "    model.eval()\n",
        "\n",
        "    with torch.no_grad():\n",
        "        corr=0\n",
        "        r_loss=0\n",
        "\n",
        "        for idx,(img,label) in enumerate(test_loader):\n",
        "            img,label = img.to(device), label.to(device)\n",
        "\n",
        "            output=model(img)\n",
        "\n",
        "            _,pred=output.max(dim=1)\n",
        "\n",
        "            corr+=pred.eq(label).sum().item()\n",
        "\n",
        "            r_loss+=loss_fn(output,label).item()*img.size(0)\n",
        "\n",
        "        acc = corr/len(test_loader.dataset)\n",
        "\n",
        "        return r_loss/len(train_loader.dataset), acc\n"
      ],
      "metadata": {
        "id": "YUoruCEnV7rs"
      },
      "execution_count": null,
      "outputs": []
    },
    {
      "cell_type": "code",
      "source": [
        "min_loss=np.inf\n",
        "\n",
        "for epoch in range(200):\n",
        "\n",
        "    train_loss,train_acc = train(train_loader,model,loss_fn,optimizer,device)\n",
        "\n",
        "    val_loss, val_acc = test(test_loader,model,loss_fn,device)\n",
        "\n",
        "    #val_loss 가 개선되었다면 min_loss를 갱신하고 model의 가중치(weights)를 저장한다\n",
        "    if val_loss  < min_loss:\n",
        "        print('[INFO] val_loss has been improved from {:5f} to {:5f} Saving Model!'.format(min_loss,val_loss))\n",
        "        min_loss = val_loss\n",
        "        torch.save(model.state_dict(),'{}.pth'.format('AlexNet'))\n",
        "\n",
        "    print(f'Epoch:{epoch+1:02d},loss:{train_loss:5f},acc:{train_acc:5f},val_loss:{val_loss:5f},val_acc:{val_acc:5f}')\n",
        ""
      ],
      "metadata": {
        "id": "PFqHZBrHXNoH"
      },
      "execution_count": null,
      "outputs": []
    },
    {
      "cell_type": "code",
      "source": [],
      "metadata": {
        "id": "nH2aMXhdovxq"
      },
      "execution_count": null,
      "outputs": []
    }
  ]
}