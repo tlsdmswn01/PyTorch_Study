{
  "nbformat": 4,
  "nbformat_minor": 0,
  "metadata": {
    "colab": {
      "private_outputs": true,
      "provenance": [],
      "gpuType": "T4",
      "authorship_tag": "ABX9TyO0SvWKpcRqf11f0IEK/aYx",
      "include_colab_link": true
    },
    "kernelspec": {
      "name": "python3",
      "display_name": "Python 3"
    },
    "language_info": {
      "name": "python"
    },
    "accelerator": "GPU"
  },
  "cells": [
    {
      "cell_type": "markdown",
      "metadata": {
        "id": "view-in-github",
        "colab_type": "text"
      },
      "source": [
        "<a href=\"https://colab.research.google.com/github/tlsdmswn01/PyTorch_Study/blob/main/FashionMNIST.ipynb\" target=\"_parent\"><img src=\"https://colab.research.google.com/assets/colab-badge.svg\" alt=\"Open In Colab\"/></a>"
      ]
    },
    {
      "cell_type": "code",
      "execution_count": null,
      "metadata": {
        "id": "mrmYtMohHJ9V"
      },
      "outputs": [],
      "source": [
        "import torch\n",
        "from torch import nn\n",
        "from torch.utils.data import DataLoader\n",
        "from torchvision import datasets\n",
        "import torchvision.transforms as T"
      ]
    },
    {
      "cell_type": "code",
      "source": [
        "train_transform=T.Compose([\n",
        "    T.ToTensor()\n",
        "])\n",
        "\n",
        "test_transform=T.Compose([\n",
        "    T.ToTensor()\n",
        "])\n",
        "\n",
        "\n",
        "training_data= datasets.FashionMNIST(\n",
        "    root='./data',\n",
        "    train=True,\n",
        "    download=True,\n",
        "    transform=train_transform\n",
        ")\n",
        "\n",
        "test_data=datasets.FashionMNIST(\n",
        "    root='./data',\n",
        "    train=False,\n",
        "    download=True,\n",
        "    transform = test_transform\n",
        ")\n",
        "\n",
        "train_dataloader=DataLoader(training_data,batch_size=64)\n",
        "test_dataloader=DataLoader(test_data,batch_size=64)"
      ],
      "metadata": {
        "id": "JmuUUGnoH-RQ"
      },
      "execution_count": null,
      "outputs": []
    },
    {
      "cell_type": "code",
      "source": [
        "image,label=next(iter(train_dataloader))\n",
        "print(image.size(), label)"
      ],
      "metadata": {
        "id": "CqRhnKb-JfkZ"
      },
      "execution_count": null,
      "outputs": []
    },
    {
      "cell_type": "code",
      "source": [
        "class DNN(nn.Module):\n",
        "    def __init__(self):\n",
        "        super(DNN,self).__init__()\n",
        "        self.flatten = nn.Flatten()\n",
        "        self.linear_relu_stack = nn.Sequential(\n",
        "            nn.Linear(28*28,512),\n",
        "            nn.ReLU(),\n",
        "            nn.Linear(512,512),\n",
        "            nn.ReLU(),\n",
        "            nn.Linear(512,10)\n",
        "        )\n",
        "\n",
        "    def forward(self,x):\n",
        "        x=self.flatten(x)\n",
        "        logits=self.linear_relu_stack(x)\n",
        "        return logits\n",
        "\n",
        "model=DNN()\n",
        "model.to('cuda')"
      ],
      "metadata": {
        "id": "iEKJ-s_TJdt1"
      },
      "execution_count": null,
      "outputs": []
    },
    {
      "cell_type": "code",
      "source": [
        "# 하이퍼파라미터\n",
        "learning_rate = 1e-3\n",
        "batch_size=64\n",
        "epochs=5\n",
        "loss_fn=nn.CrossEntropyLoss()\n",
        "optimizer=torch.optim.SGD(model.parameters(),lr=learning_rate)"
      ],
      "metadata": {
        "id": "OUiyCT_EJ_1F"
      },
      "execution_count": null,
      "outputs": []
    },
    {
      "cell_type": "code",
      "source": [
        "len(train_dataloader.dataset)"
      ],
      "metadata": {
        "id": "_MptEPWmKd1i"
      },
      "execution_count": null,
      "outputs": []
    },
    {
      "cell_type": "code",
      "source": [
        "def train(train_dataloader, model, loss_fn, optimizer):\n",
        "    size=len(train_dataloader.dataset)\n",
        "\n",
        "    model.train()\n",
        "    for idx, (image,label) in enumerate(train_dataloader):\n",
        "\n",
        "        image,label=image.to('cuda'), label.to('cuda')\n",
        "\n",
        "        outputs=model(image)\n",
        "        loss=loss_fn(outputs,label)\n",
        "\n",
        "\n",
        "        optimizer.zero_grad()\n",
        "        loss.backward()\n",
        "        optimizer.step()\n",
        "\n",
        "        if idx%100==0:\n",
        "            loss,current= loss.item(), (idx+1)*len(image)\n",
        "            print('loss:{:7f} current: {:5d}/{:5d}'.format(loss,current,size))\n"
      ],
      "metadata": {
        "id": "F0sC36hrKJsB"
      },
      "execution_count": null,
      "outputs": []
    },
    {
      "cell_type": "code",
      "source": [
        "train(train_dataloader,model,loss_fn,optimizer)"
      ],
      "metadata": {
        "id": "5fr2sbAyLTdM"
      },
      "execution_count": null,
      "outputs": []
    },
    {
      "cell_type": "code",
      "source": [
        "def test(test_dataloader, model, loos_fn):\n",
        "    model.eval()\n",
        "    size=len(test_dataloader.dataset)\n",
        "    num_batches = len(test_dataloader)\n",
        "    test_loss, correct=0,0\n",
        "\n",
        "    with torch.no_grad():\n",
        "        for idx, (image,label) in enumerate(test_dataloader):\n",
        "            image,label=image.to('cuda'), label.to('cuda')\n",
        "\n",
        "            outputs=model(image)\n",
        "            test_loss+=loss_fn(outputs,label).item()\n",
        "            correct+=(outputs.argmax(1)==label).type(torch.float).sum().item()\n",
        "\n",
        "    test_loss/=num_batches\n",
        "    correct/=size\n",
        "    print(f\"Test Error: \\n Accuracy: {(100*correct):>0.1f}%, Avg loss: {test_loss:>8f} \\n\")\n"
      ],
      "metadata": {
        "id": "8TMF-A9hLXro"
      },
      "execution_count": null,
      "outputs": []
    },
    {
      "cell_type": "code",
      "source": [
        "epochs = 10\n",
        "for t in range(epochs):\n",
        "    print(f\"Epoch {t+1}\\n-------------------------------\")\n",
        "    train(train_dataloader, model, loss_fn, optimizer)\n",
        "    test(test_dataloader, model, loss_fn)\n",
        "print(\"Done!\")"
      ],
      "metadata": {
        "id": "vMOQzMwxYG11"
      },
      "execution_count": null,
      "outputs": []
    },
    {
      "cell_type": "code",
      "source": [],
      "metadata": {
        "id": "EWBJ1hrkYKb3"
      },
      "execution_count": null,
      "outputs": []
    }
  ]
}