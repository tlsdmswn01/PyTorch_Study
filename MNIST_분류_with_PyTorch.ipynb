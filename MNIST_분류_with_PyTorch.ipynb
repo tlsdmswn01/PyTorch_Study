{
  "nbformat": 4,
  "nbformat_minor": 0,
  "metadata": {
    "colab": {
      "provenance": [],
      "machine_shape": "hm",
      "gpuType": "T4",
      "authorship_tag": "ABX9TyOrT4PDH4o571sViY6rKrDB",
      "include_colab_link": true
    },
    "kernelspec": {
      "name": "python3",
      "display_name": "Python 3"
    },
    "language_info": {
      "name": "python"
    },
    "accelerator": "GPU"
  },
  "cells": [
    {
      "cell_type": "markdown",
      "metadata": {
        "id": "view-in-github",
        "colab_type": "text"
      },
      "source": [
        "<a href=\"https://colab.research.google.com/github/tlsdmswn01/PyTorch_Study/blob/main/MNIST_%EB%B6%84%EB%A5%98_with_PyTorch.ipynb\" target=\"_parent\"><img src=\"https://colab.research.google.com/assets/colab-badge.svg\" alt=\"Open In Colab\"/></a>"
      ]
    },
    {
      "cell_type": "markdown",
      "source": [
        "- Torchvision : 토치비전은 이미 구현되어져 있는 유명한 모델들, 일반적인 이미지 전처리 도구들을 포함하고 있는 패키지  \n",
        "- 링크: https://pytorch.org/docs/stable/torchvision/index.html"
      ],
      "metadata": {
        "id": "xfO1z5hmh1ca"
      }
    },
    {
      "cell_type": "code",
      "execution_count": 2,
      "metadata": {
        "id": "6NQEoltChGSU"
      },
      "outputs": [],
      "source": [
        "import torch\n",
        "import torch.nn as nn\n",
        "import torch.nn.functional as F\n",
        "from torch.utils.data import DataLoader\n",
        "import torchvision.datasets as dsets\n",
        "import torchvision.transforms as transforms\n",
        "import matplotlib.pyplot as plt\n",
        "import random"
      ]
    },
    {
      "cell_type": "code",
      "source": [
        "use_cuda = torch.cuda.is_available()\n",
        "device=torch.device('cuda' if use_cuda else 'cpu')\n",
        "print(device)"
      ],
      "metadata": {
        "colab": {
          "base_uri": "https://localhost:8080/"
        },
        "id": "M4UGSrnNiSbQ",
        "outputId": "0008b0db-3039-4abe-87e9-57c2a1182566"
      },
      "execution_count": 3,
      "outputs": [
        {
          "output_type": "stream",
          "name": "stdout",
          "text": [
            "cuda\n"
          ]
        }
      ]
    },
    {
      "cell_type": "code",
      "source": [
        "# 랜덤 시드 고정\n",
        "random.seed(777)\n",
        "torch.manual_seed(777)\n",
        "if device=='cuda':\n",
        "  torch.cuda.manual_seed_all(777)"
      ],
      "metadata": {
        "id": "KyER5LtDirCp"
      },
      "execution_count": 4,
      "outputs": []
    },
    {
      "cell_type": "code",
      "source": [
        "#hyperparameters\n",
        "epochs=15\n",
        "batch_size=100"
      ],
      "metadata": {
        "id": "PRpyLpCRjJdq"
      },
      "execution_count": 5,
      "outputs": []
    },
    {
      "cell_type": "markdown",
      "source": [
        "### MNIST 데이터 불러오기"
      ],
      "metadata": {
        "id": "WKZPHgz0kF0X"
      }
    },
    {
      "cell_type": "code",
      "source": [
        "#MNIST dataset\n",
        "mnist_train=dsets.MNIST(root='MNIST_data/',\n",
        "                         train=True,\n",
        "                         transform=transforms.ToTensor(),\n",
        "                         download=True) # 해당 경로에 MNIST 데이터가 없다면 다운로드 받겠다\n",
        "\n",
        "mnist_test=dsets.MNIST(root='MNIST_data/',\n",
        "                       train=False, # 테스트 데이터 다운로드\n",
        "                       transform=transforms.ToTensor(),\n",
        "                       download=True)"
      ],
      "metadata": {
        "colab": {
          "base_uri": "https://localhost:8080/"
        },
        "id": "pF8NLAsJkA-3",
        "outputId": "9df0ef7c-9a73-4210-8d0c-8a7094732f07"
      },
      "execution_count": 6,
      "outputs": [
        {
          "output_type": "stream",
          "name": "stdout",
          "text": [
            "Downloading http://yann.lecun.com/exdb/mnist/train-images-idx3-ubyte.gz\n",
            "Downloading http://yann.lecun.com/exdb/mnist/train-images-idx3-ubyte.gz to MNIST_data/MNIST/raw/train-images-idx3-ubyte.gz\n"
          ]
        },
        {
          "output_type": "stream",
          "name": "stderr",
          "text": [
            "100%|██████████| 9912422/9912422 [00:00<00:00, 112108331.99it/s]\n"
          ]
        },
        {
          "output_type": "stream",
          "name": "stdout",
          "text": [
            "Extracting MNIST_data/MNIST/raw/train-images-idx3-ubyte.gz to MNIST_data/MNIST/raw\n",
            "\n",
            "Downloading http://yann.lecun.com/exdb/mnist/train-labels-idx1-ubyte.gz\n",
            "Downloading http://yann.lecun.com/exdb/mnist/train-labels-idx1-ubyte.gz to MNIST_data/MNIST/raw/train-labels-idx1-ubyte.gz\n"
          ]
        },
        {
          "output_type": "stream",
          "name": "stderr",
          "text": [
            "100%|██████████| 28881/28881 [00:00<00:00, 40177676.23it/s]\n"
          ]
        },
        {
          "output_type": "stream",
          "name": "stdout",
          "text": [
            "Extracting MNIST_data/MNIST/raw/train-labels-idx1-ubyte.gz to MNIST_data/MNIST/raw\n",
            "\n",
            "Downloading http://yann.lecun.com/exdb/mnist/t10k-images-idx3-ubyte.gz\n",
            "Downloading http://yann.lecun.com/exdb/mnist/t10k-images-idx3-ubyte.gz to MNIST_data/MNIST/raw/t10k-images-idx3-ubyte.gz\n"
          ]
        },
        {
          "output_type": "stream",
          "name": "stderr",
          "text": [
            "100%|██████████| 1648877/1648877 [00:00<00:00, 30651470.98it/s]\n"
          ]
        },
        {
          "output_type": "stream",
          "name": "stdout",
          "text": [
            "Extracting MNIST_data/MNIST/raw/t10k-images-idx3-ubyte.gz to MNIST_data/MNIST/raw\n",
            "\n",
            "Downloading http://yann.lecun.com/exdb/mnist/t10k-labels-idx1-ubyte.gz\n",
            "Downloading http://yann.lecun.com/exdb/mnist/t10k-labels-idx1-ubyte.gz to MNIST_data/MNIST/raw/t10k-labels-idx1-ubyte.gz\n"
          ]
        },
        {
          "output_type": "stream",
          "name": "stderr",
          "text": [
            "100%|██████████| 4542/4542 [00:00<00:00, 4231570.14it/s]\n"
          ]
        },
        {
          "output_type": "stream",
          "name": "stdout",
          "text": [
            "Extracting MNIST_data/MNIST/raw/t10k-labels-idx1-ubyte.gz to MNIST_data/MNIST/raw\n",
            "\n"
          ]
        }
      ]
    },
    {
      "cell_type": "code",
      "source": [
        "mnist_train"
      ],
      "metadata": {
        "colab": {
          "base_uri": "https://localhost:8080/"
        },
        "id": "8QnbYu6eklsG",
        "outputId": "7ad1b97c-1c37-4b0e-8ea5-6f9c2cdbe835"
      },
      "execution_count": 7,
      "outputs": [
        {
          "output_type": "execute_result",
          "data": {
            "text/plain": [
              "Dataset MNIST\n",
              "    Number of datapoints: 60000\n",
              "    Root location: MNIST_data/\n",
              "    Split: Train\n",
              "    StandardTransform\n",
              "Transform: ToTensor()"
            ]
          },
          "metadata": {},
          "execution_count": 7
        }
      ]
    },
    {
      "cell_type": "code",
      "source": [
        "# dataloader\n",
        "data_loader=DataLoader(mnist_train,batch_size,shuffle=True,drop_last=True)\n",
        "#shuffle : 매 에포크마다 미니 배치를 셔플할 것인지의 여부\n",
        "#drop_last: 마지막 배치를 버릴 것인지 의미\n",
        "#drop_last를 하는 이유 : 만약 데이터의 총 개수가 1000이고, 배치가 128이라면 마지막 배치가 104로 남는데 이를 없애는 것 ->\n",
        "# 다른 미니 배치보다 개수가 적은 마지막 배치를 경사하강법에 사용하여 마지막 배치가 상대적으로 과대 평가되는 현상을 막는다."
      ],
      "metadata": {
        "id": "pgvc_mqJlJcg"
      },
      "execution_count": 8,
      "outputs": []
    },
    {
      "cell_type": "markdown",
      "source": [
        "### Linear 모델로 학습시키기"
      ],
      "metadata": {
        "id": "6WVDtKChl3Zc"
      }
    },
    {
      "cell_type": "code",
      "source": [
        "class MultiLinear(nn.Module):\n",
        "  def __init__(self):\n",
        "    super().__init__()\n",
        "    self.linear=nn.Linear(28*28,10, bias=True).to(device)\n",
        "\n",
        "  def forward(self,x):\n",
        "    return self.linear(x)\n",
        "\n",
        "model= MultiLinear()"
      ],
      "metadata": {
        "id": "pIKiXcZhl5Hw"
      },
      "execution_count": 9,
      "outputs": []
    },
    {
      "cell_type": "code",
      "source": [
        "# 비용함수와 옵티마이저 정의\n",
        "cri=nn.CrossEntropyLoss().to(device) # 내부적으로 softmax 함수를 포함하고 있다\n",
        "optimizer=torch.optim.SGD(model.parameters(),lr=1e-5)"
      ],
      "metadata": {
        "id": "r6oPuZvCoNKk"
      },
      "execution_count": 10,
      "outputs": []
    },
    {
      "cell_type": "code",
      "source": [
        "for epoch in range(epochs):\n",
        "  avg_cost=0\n",
        "  total_batch=len(data_loader)\n",
        "  for idx,samples in enumerate(data_loader):\n",
        "    x_train,y_train=samples\n",
        "\n",
        "    x_train=x_train.view(-1,28*28).to(device)\n",
        "    y_train=y_train.to(device)\n",
        "\n",
        "    prediction=model(x_train)\n",
        "    cost=cri(prediction,y_train)\n",
        "\n",
        "    optimizer.zero_grad()\n",
        "    cost.backward()\n",
        "    optimizer.step()\n",
        "\n",
        "    avg_cost += cost/total_batch\n",
        "\n",
        "  print('Epoch:', '%04d' % (epoch + 1), 'cost =', '{:.9f}'.format(avg_cost))\n",
        "\n"
      ],
      "metadata": {
        "colab": {
          "base_uri": "https://localhost:8080/"
        },
        "id": "F_KL_9wSoiPp",
        "outputId": "01f56cd1-4467-43b3-9503-e2b71ebfecdd"
      },
      "execution_count": 11,
      "outputs": [
        {
          "output_type": "stream",
          "name": "stdout",
          "text": [
            "Epoch: 0001 cost = 2.287675381\n",
            "Epoch: 0002 cost = 2.281183720\n",
            "Epoch: 0003 cost = 2.274734259\n",
            "Epoch: 0004 cost = 2.268328667\n",
            "Epoch: 0005 cost = 2.261963844\n",
            "Epoch: 0006 cost = 2.255640507\n",
            "Epoch: 0007 cost = 2.249355793\n",
            "Epoch: 0008 cost = 2.243109465\n",
            "Epoch: 0009 cost = 2.236901760\n",
            "Epoch: 0010 cost = 2.230732679\n",
            "Epoch: 0011 cost = 2.224599123\n",
            "Epoch: 0012 cost = 2.218501806\n",
            "Epoch: 0013 cost = 2.212440252\n",
            "Epoch: 0014 cost = 2.206413269\n",
            "Epoch: 0015 cost = 2.200421095\n"
          ]
        }
      ]
    },
    {
      "cell_type": "code",
      "source": [
        "# 테스트 데이터를 사용해 모델을 테스트 한다\n",
        "with torch.no_grad():\n",
        "  x_test = mnist_test.test_data.view(-1,28*28).float().to(device)\n",
        "  y_test = mnist_test.test_labels.to(device)\n",
        "\n",
        "  prediction=model(x_test)\n",
        "  cor_p=torch.argmax(prediction,1) ==y_test\n",
        "  accuracy= cor_p.float().mean()\n",
        "  print(cor_p)\n",
        "  print('Accuracy:',accuracy.item())\n",
        "\n",
        "  r= random.randint(0,len(mnist_test)-1)\n",
        "  x_single_data=mnist_test.test_data[r:r+1].view(-1,28*28).float().to(device)\n",
        "  y_single_data=mnist_test.test_labels[r:r+1].to(device)\n",
        "\n",
        "  single_p=model(x_single_data)\n",
        "  print('Prediciton: ',torch.argmax(single_p,1).item())\n",
        "\n",
        "  plt.imshow(mnist_test.test_data[r:r + 1].view(28, 28), cmap='Greys', interpolation='nearest')\n",
        "  plt.show()"
      ],
      "metadata": {
        "colab": {
          "base_uri": "https://localhost:8080/",
          "height": 577
        },
        "id": "Q57lPSdNpHIN",
        "outputId": "e5401683-c250-4de3-e5a8-0473dc8d34a7"
      },
      "execution_count": 12,
      "outputs": [
        {
          "output_type": "stream",
          "name": "stdout",
          "text": [
            "tensor([False,  True,  True,  ...,  True, False, False], device='cuda:0')\n",
            "Accuracy: 0.22739998996257782\n",
            "Prediciton:  9\n"
          ]
        },
        {
          "output_type": "stream",
          "name": "stderr",
          "text": [
            "/usr/local/lib/python3.10/dist-packages/torchvision/datasets/mnist.py:80: UserWarning: test_data has been renamed data\n",
            "  warnings.warn(\"test_data has been renamed data\")\n",
            "/usr/local/lib/python3.10/dist-packages/torchvision/datasets/mnist.py:70: UserWarning: test_labels has been renamed targets\n",
            "  warnings.warn(\"test_labels has been renamed targets\")\n"
          ]
        },
        {
          "output_type": "display_data",
          "data": {
            "text/plain": [
              "<Figure size 640x480 with 1 Axes>"
            ],
            "image/png": "[encoded data removed]"
          },
          "metadata": {}
        }
      ]
    },
    {
      "cell_type": "markdown",
      "source": [
        "### CNN 모델로 학습시키기"
      ],
      "metadata": {
        "id": "5QdNlMPKtRS4"
      }
    },
    {
      "cell_type": "code",
      "source": [
        "import torch\n",
        "import torch.nn as nn\n",
        "import torch.optim as optim\n",
        "import torch.nn.functional as F\n",
        "import torchvision\n",
        "import torchvision.transforms as transforms\n",
        "import torchvision.datasets as dsets\n",
        "from torch.utils.data import DataLoader\n"
      ],
      "metadata": {
        "id": "I8_fOWfMr-UB"
      },
      "execution_count": 13,
      "outputs": []
    },
    {
      "cell_type": "code",
      "source": [
        "device = 'cuda' if torch.cuda.is_available() else 'cpu'\n",
        "torch.manual_seed(777)\n",
        "if device=='cuda':\n",
        "  torch.cuda.manual_seed_all(777)\n",
        "print(device)"
      ],
      "metadata": {
        "colab": {
          "base_uri": "https://localhost:8080/"
        },
        "id": "R40mAtqJwres",
        "outputId": "fc4a2f48-090e-4884-861e-857e833f6848"
      },
      "execution_count": 14,
      "outputs": [
        {
          "output_type": "stream",
          "name": "stdout",
          "text": [
            "cuda\n"
          ]
        }
      ]
    },
    {
      "cell_type": "code",
      "source": [
        "# hyperparameter 설정\n",
        "lr=0.001\n",
        "batch_size=100\n",
        "num_classes=10\n",
        "epochs=5"
      ],
      "metadata": {
        "id": "8Pb80urPw9GN"
      },
      "execution_count": 15,
      "outputs": []
    },
    {
      "cell_type": "code",
      "source": [
        "#MNIST 데이터 로드\n",
        "mnist_train=dsets.MNIST(root='./data/MNIST',\n",
        "                        train=True,\n",
        "                        transform=transforms.ToTensor(),\n",
        "                        download=True)\n",
        "mnist_test=dsets.MNIST(root='/data/MNIST',\n",
        "                       train=False,\n",
        "                       transform=transforms.ToTensor(),\n",
        "                       download=True)\n"
      ],
      "metadata": {
        "colab": {
          "base_uri": "https://localhost:8080/"
        },
        "id": "cZIXOfk7xH5X",
        "outputId": "f74d14f9-4909-41cc-fc54-4869ea892d9f"
      },
      "execution_count": 16,
      "outputs": [
        {
          "output_type": "stream",
          "name": "stdout",
          "text": [
            "Downloading http://yann.lecun.com/exdb/mnist/train-images-idx3-ubyte.gz\n",
            "Downloading http://yann.lecun.com/exdb/mnist/train-images-idx3-ubyte.gz to ./data/MNIST/MNIST/raw/train-images-idx3-ubyte.gz\n"
          ]
        },
        {
          "output_type": "stream",
          "name": "stderr",
          "text": [
            "100%|██████████| 9912422/9912422 [00:00<00:00, 116863176.84it/s]"
          ]
        },
        {
          "output_type": "stream",
          "name": "stdout",
          "text": [
            "Extracting ./data/MNIST/MNIST/raw/train-images-idx3-ubyte.gz to ./data/MNIST/MNIST/raw\n"
          ]
        },
        {
          "output_type": "stream",
          "name": "stderr",
          "text": [
            "\n"
          ]
        },
        {
          "output_type": "stream",
          "name": "stdout",
          "text": [
            "\n",
            "Downloading http://yann.lecun.com/exdb/mnist/train-labels-idx1-ubyte.gz\n",
            "Downloading http://yann.lecun.com/exdb/mnist/train-labels-idx1-ubyte.gz to ./data/MNIST/MNIST/raw/train-labels-idx1-ubyte.gz\n"
          ]
        },
        {
          "output_type": "stream",
          "name": "stderr",
          "text": [
            "100%|██████████| 28881/28881 [00:00<00:00, 31928227.15it/s]\n"
          ]
        },
        {
          "output_type": "stream",
          "name": "stdout",
          "text": [
            "Extracting ./data/MNIST/MNIST/raw/train-labels-idx1-ubyte.gz to ./data/MNIST/MNIST/raw\n",
            "\n",
            "Downloading http://yann.lecun.com/exdb/mnist/t10k-images-idx3-ubyte.gz\n",
            "Downloading http://yann.lecun.com/exdb/mnist/t10k-images-idx3-ubyte.gz to ./data/MNIST/MNIST/raw/t10k-images-idx3-ubyte.gz\n"
          ]
        },
        {
          "output_type": "stream",
          "name": "stderr",
          "text": [
            "100%|██████████| 1648877/1648877 [00:00<00:00, 31299432.91it/s]\n"
          ]
        },
        {
          "output_type": "stream",
          "name": "stdout",
          "text": [
            "Extracting ./data/MNIST/MNIST/raw/t10k-images-idx3-ubyte.gz to ./data/MNIST/MNIST/raw\n",
            "\n",
            "Downloading http://yann.lecun.com/exdb/mnist/t10k-labels-idx1-ubyte.gz\n",
            "Downloading http://yann.lecun.com/exdb/mnist/t10k-labels-idx1-ubyte.gz to ./data/MNIST/MNIST/raw/t10k-labels-idx1-ubyte.gz\n"
          ]
        },
        {
          "output_type": "stream",
          "name": "stderr",
          "text": [
            "100%|██████████| 4542/4542 [00:00<00:00, 6614766.93it/s]\n"
          ]
        },
        {
          "output_type": "stream",
          "name": "stdout",
          "text": [
            "Extracting ./data/MNIST/MNIST/raw/t10k-labels-idx1-ubyte.gz to ./data/MNIST/MNIST/raw\n",
            "\n",
            "Downloading http://yann.lecun.com/exdb/mnist/train-images-idx3-ubyte.gz\n",
            "Downloading http://yann.lecun.com/exdb/mnist/train-images-idx3-ubyte.gz to /data/MNIST/MNIST/raw/train-images-idx3-ubyte.gz\n"
          ]
        },
        {
          "output_type": "stream",
          "name": "stderr",
          "text": [
            "100%|██████████| 9912422/9912422 [00:00<00:00, 116193640.39it/s]"
          ]
        },
        {
          "output_type": "stream",
          "name": "stdout",
          "text": [
            "Extracting /data/MNIST/MNIST/raw/train-images-idx3-ubyte.gz to /data/MNIST/MNIST/raw\n"
          ]
        },
        {
          "output_type": "stream",
          "name": "stderr",
          "text": [
            "\n"
          ]
        },
        {
          "output_type": "stream",
          "name": "stdout",
          "text": [
            "\n",
            "Downloading http://yann.lecun.com/exdb/mnist/train-labels-idx1-ubyte.gz\n",
            "Downloading http://yann.lecun.com/exdb/mnist/train-labels-idx1-ubyte.gz to /data/MNIST/MNIST/raw/train-labels-idx1-ubyte.gz\n"
          ]
        },
        {
          "output_type": "stream",
          "name": "stderr",
          "text": [
            "100%|██████████| 28881/28881 [00:00<00:00, 8910967.62it/s]\n"
          ]
        },
        {
          "output_type": "stream",
          "name": "stdout",
          "text": [
            "Extracting /data/MNIST/MNIST/raw/train-labels-idx1-ubyte.gz to /data/MNIST/MNIST/raw\n",
            "\n",
            "Downloading http://yann.lecun.com/exdb/mnist/t10k-images-idx3-ubyte.gz\n",
            "Downloading http://yann.lecun.com/exdb/mnist/t10k-images-idx3-ubyte.gz to /data/MNIST/MNIST/raw/t10k-images-idx3-ubyte.gz\n"
          ]
        },
        {
          "output_type": "stream",
          "name": "stderr",
          "text": [
            "100%|██████████| 1648877/1648877 [00:00<00:00, 30923938.24it/s]\n"
          ]
        },
        {
          "output_type": "stream",
          "name": "stdout",
          "text": [
            "Extracting /data/MNIST/MNIST/raw/t10k-images-idx3-ubyte.gz to /data/MNIST/MNIST/raw\n",
            "\n",
            "Downloading http://yann.lecun.com/exdb/mnist/t10k-labels-idx1-ubyte.gz\n",
            "Downloading http://yann.lecun.com/exdb/mnist/t10k-labels-idx1-ubyte.gz to /data/MNIST/MNIST/raw/t10k-labels-idx1-ubyte.gz\n"
          ]
        },
        {
          "output_type": "stream",
          "name": "stderr",
          "text": [
            "100%|██████████| 4542/4542 [00:00<00:00, 5783402.78it/s]"
          ]
        },
        {
          "output_type": "stream",
          "name": "stdout",
          "text": [
            "Extracting /data/MNIST/MNIST/raw/t10k-labels-idx1-ubyte.gz to /data/MNIST/MNIST/raw\n",
            "\n"
          ]
        },
        {
          "output_type": "stream",
          "name": "stderr",
          "text": [
            "\n"
          ]
        }
      ]
    },
    {
      "cell_type": "code",
      "source": [
        "train_loader=DataLoader(mnist_train, batch_size, shuffle=True, drop_last=True)\n",
        "test_loader=DataLoader(mnist_test, batch_size)"
      ],
      "metadata": {
        "id": "bxygGAoDyeUH"
      },
      "execution_count": 17,
      "outputs": []
    },
    {
      "cell_type": "code",
      "source": [
        "# input size를 알기 위해서\n",
        "examples=enumerate(mnist_train)\n",
        "batch_idx,(example_data,example_targets)=next(examples)\n",
        "example_data.shape"
      ],
      "metadata": {
        "colab": {
          "base_uri": "https://localhost:8080/"
        },
        "id": "ZW943yXVy0C3",
        "outputId": "9f42cdae-a297-49ee-a122-a0048756de15"
      },
      "execution_count": 18,
      "outputs": [
        {
          "output_type": "execute_result",
          "data": {
            "text/plain": [
              "torch.Size([1, 28, 28])"
            ]
          },
          "metadata": {},
          "execution_count": 18
        }
      ]
    },
    {
      "cell_type": "code",
      "source": [
        "class CNN(nn.Module):\n",
        "  def __init__(self): # layer 정의\n",
        "    super(CNN,self).__init__()\n",
        "\n",
        "    #input 크기 : 28*28*1\n",
        "    self.conv1=nn.Conv2d(1,10,kernel_size=5) # input_channel = 1, filter=10, kernel_size=5, zero_padding=0, stribe=1\n",
        "\n",
        "    self.conv2=nn.Conv2d(10,20,kernel_size=5)\n",
        "\n",
        "    self.drop2D= nn.Dropout2d(p=0.25, inplace=False) # 랜덤하게 뉴런을 종료해 오버피팅을 조절하는\n",
        "    self.mp = nn.MaxPool2d(2)\n",
        "    self.fc1=nn.Linear(320,100)\n",
        "    self.fc2=nn.Linear(100,10)\n",
        "\n",
        "  def forward(self,x):\n",
        "    x=F.relu(self.mp(self.conv1(x))) # conv - 24*24*10 , mp - 12*12*10, relu\n",
        "    x=F.relu(self.mp(self.conv2(x))) # conv - 8*8*20 , mp - 4*4*20, relu\n",
        "    x=self.drop2D(x)\n",
        "    x=x.view(x.size(0),-1) # flat\n",
        "    x=self.fc1(x)\n",
        "    x=self.fc2(x)\n",
        "    return F.log_softmax(x)\n",
        "\n",
        "\n",
        "model=CNN().to(device)\n",
        "cri=nn.CrossEntropyLoss()\n",
        "optimizer=torch.optim.Adam(model.parameters(),lr=lr)\n",
        ""
      ],
      "metadata": {
        "id": "x0mOAiOXzLjb"
      },
      "execution_count": 21,
      "outputs": []
    },
    {
      "cell_type": "code",
      "source": [
        "# 학습하기\n",
        "for epoch in range(epochs):\n",
        "  avg_cost=0\n",
        "\n",
        "  for indx,samples in enumerate(train_loader):\n",
        "    x_train,y_train=samples\n",
        "    x_train,y_train=x_train.to(device),y_train.to(device)\n",
        "    optimizer.zero_grad()\n",
        "    prediction= model(x_train)\n",
        "    cost=cri(prediction,y_train)\n",
        "    cost.backward()\n",
        "    optimizer.step()\n",
        "    avg_cost+= cost/ len(train_loader) # loss값을 변수에 누적하고 train_loader의 개수로 나눈다 = 평균을 구하는\n",
        "  print('[Epoch: {:>4}] cost = {:>.9}'.format(epoch + 1, avg_cost))\n"
      ],
      "metadata": {
        "colab": {
          "base_uri": "https://localhost:8080/"
        },
        "id": "ZW69tAVF2_Sy",
        "outputId": "56f8110b-dcd0-4295-c77d-0dd48f0559d9"
      },
      "execution_count": 22,
      "outputs": [
        {
          "output_type": "stream",
          "name": "stderr",
          "text": [
            "<ipython-input-21-28e8446b07e1>:22: UserWarning: Implicit dimension choice for log_softmax has been deprecated. Change the call to include dim=X as an argument.\n",
            "  return F.log_softmax(x)\n"
          ]
        },
        {
          "output_type": "stream",
          "name": "stdout",
          "text": [
            "[Epoch:    1] cost = 0.306862473\n",
            "[Epoch:    2] cost = 0.112491101\n",
            "[Epoch:    3] cost = 0.087559171\n",
            "[Epoch:    4] cost = 0.075647898\n",
            "[Epoch:    5] cost = 0.0658238828\n"
          ]
        }
      ]
    },
    {
      "cell_type": "code",
      "source": [
        "# 테스트 하기\n",
        "model.eval() # evaluate mode로 전환 dropout이나 batch_normalization 해제\n",
        "with torch.no_grad():\n",
        "  correct=0\n",
        "  total=0\n",
        "\n",
        "  for x_test, y_test in test_loader:\n",
        "    x_test=x_test.to(device)\n",
        "    y_test=y_test.to(device)\n",
        "    out=model(x_test)\n",
        "    preds=torch.max(out.data,1)[1]\n",
        "    total+=len(y_test)\n",
        "    correct+=(preds==y_test).sum().item() # 예측값과 실제값이 같은지 비교\n",
        "\n",
        "  print('Test Accuracy:',100*correct/total, '%')"
      ],
      "metadata": {
        "colab": {
          "base_uri": "https://localhost:8080/"
        },
        "id": "hpaE7VfBDHG6",
        "outputId": "8d60f337-ba45-420f-82f5-881acffe4f79"
      },
      "execution_count": 40,
      "outputs": [
        {
          "output_type": "stream",
          "name": "stderr",
          "text": [
            "<ipython-input-21-28e8446b07e1>:22: UserWarning: Implicit dimension choice for log_softmax has been deprecated. Change the call to include dim=X as an argument.\n",
            "  return F.log_softmax(x)\n"
          ]
        },
        {
          "output_type": "stream",
          "name": "stdout",
          "text": [
            "Test Accuracy: 98.68 %\n"
          ]
        }
      ]
    },
    {
      "cell_type": "code",
      "source": [
        "out=model(x_test)\n",
        "preds=torch.max(out.data,1)[1]\n",
        "print()"
      ],
      "metadata": {
        "colab": {
          "base_uri": "https://localhost:8080/"
        },
        "id": "0E13pJyNDqAn",
        "outputId": "6a2993ec-24b2-4a31-e996-769ef9ea05c4"
      },
      "execution_count": 28,
      "outputs": [
        {
          "output_type": "stream",
          "name": "stdout",
          "text": [
            "tensor([8, 9, 0, 1, 2, 3, 4, 5, 6, 7, 8, 0, 1, 2, 3, 4, 7, 8, 9, 7, 8, 6, 4, 1,\n",
            "        9, 3, 8, 4, 4, 7, 0, 1, 9, 2, 8, 7, 8, 2, 6, 0, 6, 5, 3, 3, 3, 9, 1, 4,\n",
            "        0, 6, 1, 0, 0, 6, 2, 1, 1, 7, 7, 8, 4, 6, 0, 7, 0, 3, 6, 8, 7, 1, 5, 2,\n",
            "        4, 9, 4, 3, 6, 4, 1, 7, 2, 6, 5, 0, 1, 2, 3, 4, 5, 6, 7, 8, 9, 0, 1, 2,\n",
            "        3, 4, 5, 6], device='cuda:0')\n"
          ]
        },
        {
          "output_type": "stream",
          "name": "stderr",
          "text": [
            "<ipython-input-21-28e8446b07e1>:22: UserWarning: Implicit dimension choice for log_softmax has been deprecated. Change the call to include dim=X as an argument.\n",
            "  return F.log_softmax(x)\n"
          ]
        }
      ]
    }
  ]
}