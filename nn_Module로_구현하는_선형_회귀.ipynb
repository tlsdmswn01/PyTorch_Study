{
  "nbformat": 4,
  "nbformat_minor": 0,
  "metadata": {
    "colab": {
      "provenance": [],
      "machine_shape": "hm",
      "gpuType": "T4",
      "authorship_tag": "ABX9TyM2i/58JOa5lqgjB1aid6Iq",
      "include_colab_link": true
    },
    "kernelspec": {
      "name": "python3",
      "display_name": "Python 3"
    },
    "language_info": {
      "name": "python"
    },
    "accelerator": "GPU"
  },
  "cells": [
    {
      "cell_type": "markdown",
      "metadata": {
        "id": "view-in-github",
        "colab_type": "text"
      },
      "source": [
        "<a href=\"https://colab.research.google.com/github/tlsdmswn01/PyTorch_Study/blob/main/nn_Module%EB%A1%9C_%EA%B5%AC%ED%98%84%ED%95%98%EB%8A%94_%EC%84%A0%ED%98%95_%ED%9A%8C%EA%B7%80.ipynb\" target=\"_parent\"><img src=\"https://colab.research.google.com/assets/colab-badge.svg\" alt=\"Open In Colab\"/></a>"
      ]
    },
    {
      "cell_type": "markdown",
      "source": [
        "### 선형회귀모델\n"
      ],
      "metadata": {
        "id": "qMPkNbMt91OF"
      }
    },
    {
      "cell_type": "code",
      "execution_count": null,
      "metadata": {
        "colab": {
          "base_uri": "https://localhost:8080/",
          "height": 219
        },
        "id": "h_-fJr1OwCdQ",
        "outputId": "413cc8ff-a73d-4b99-bb25-ec162b1f9d50"
      },
      "outputs": [
        {
          "output_type": "error",
          "ename": "NameError",
          "evalue": "name 'input_dim' is not defined",
          "traceback": [
            "\u001b[0;31m---------------------------------------------------------------------------\u001b[0m",
            "\u001b[0;31mNameError\u001b[0m                                 Traceback (most recent call last)",
            "\u001b[0;32m<ipython-input-1-90980b667e80>\u001b[0m in \u001b[0;36m<cell line: 3>\u001b[0;34m()\u001b[0m\n\u001b[1;32m      1\u001b[0m \u001b[0;31m# 선형회귀모델\u001b[0m\u001b[0;34m\u001b[0m\u001b[0;34m\u001b[0m\u001b[0m\n\u001b[1;32m      2\u001b[0m \u001b[0;32mimport\u001b[0m \u001b[0mtorch\u001b[0m\u001b[0;34m.\u001b[0m\u001b[0mnn\u001b[0m \u001b[0;32mas\u001b[0m \u001b[0mnn\u001b[0m\u001b[0;34m\u001b[0m\u001b[0;34m\u001b[0m\u001b[0m\n\u001b[0;32m----> 3\u001b[0;31m \u001b[0mmodel\u001b[0m\u001b[0;34m=\u001b[0m \u001b[0mnn\u001b[0m\u001b[0;34m.\u001b[0m\u001b[0mLinear\u001b[0m\u001b[0;34m(\u001b[0m\u001b[0minput_dim\u001b[0m\u001b[0;34m,\u001b[0m \u001b[0moutput_dim\u001b[0m\u001b[0;34m)\u001b[0m\u001b[0;34m\u001b[0m\u001b[0;34m\u001b[0m\u001b[0m\n\u001b[0m",
            "\u001b[0;31mNameError\u001b[0m: name 'input_dim' is not defined"
          ]
        }
      ],
      "source": [
        "import torch.nn as nn\n",
        "#model= nn.Linear(input_dim, output_dim)"
      ]
    },
    {
      "cell_type": "code",
      "source": [
        "# 평균 제곱오차 mse\n",
        "import torch.nn.functional as F\n",
        "cost = F.mse_loss(prediction, y_train)"
      ],
      "metadata": {
        "id": "hQ_0no_KwjcA"
      },
      "execution_count": null,
      "outputs": []
    },
    {
      "cell_type": "markdown",
      "source": [
        "### 단순 선형 회귀 구현"
      ],
      "metadata": {
        "id": "D_su6hNkwtjD"
      }
    },
    {
      "cell_type": "code",
      "source": [
        "import torch\n",
        "import torch.nn as nn\n",
        "import torch.nn.functional as F\n",
        "\n",
        "torch.manual_seed(1)"
      ],
      "metadata": {
        "colab": {
          "base_uri": "https://localhost:8080/"
        },
        "id": "GLoTV2twwwbm",
        "outputId": "e82ab52b-dc07-4500-9c8c-f18c3042fd12"
      },
      "execution_count": null,
      "outputs": [
        {
          "output_type": "execute_result",
          "data": {
            "text/plain": [
              "<torch._C.Generator at 0x7d647c189d70>"
            ]
          },
          "metadata": {},
          "execution_count": 2
        }
      ]
    },
    {
      "cell_type": "code",
      "source": [
        "# 데이터 선언 y=2x가 가정된 상태에서 만들어진 데이터\n",
        "x_train = torch.FloatTensor([[1],[2],[3]])\n",
        "y_train = torch.FloatTensor([[2],[4],[6]])\n",
        "\n",
        "# 모델 선언 및 초기화, 단순 선형 회귀이므로 input_dim = 1, output_dim=1\n",
        "model=nn.Linear(1,1)\n",
        "# 하나의 입력 x에 대해서 하나의 출력 y를 가짐으로 입력과 출력 차원 모두 1을 인수로 사용\n",
        "print(list(model.parameters())) # 출력되는 각 값들이 현재는 랜덤 초기화 되어 있음\n",
        "# 첫번째 출력값 : 가중치 w\n",
        "# 두번째 출력값 : 편향 b"
      ],
      "metadata": {
        "colab": {
          "base_uri": "https://localhost:8080/"
        },
        "id": "ts0rz8Hzw3Nt",
        "outputId": "e3f51b60-b60e-4e4f-c5e9-79900b32e181"
      },
      "execution_count": null,
      "outputs": [
        {
          "output_type": "stream",
          "name": "stdout",
          "text": [
            "[Parameter containing:\n",
            "tensor([[0.5153]], requires_grad=True), Parameter containing:\n",
            "tensor([-0.4414], requires_grad=True)]\n"
          ]
        }
      ]
    },
    {
      "cell_type": "code",
      "source": [
        "# 옵티마이저 정의, model.parameters()를 사용하여 W와 b를 전달합니다.학습률(learning rate)은 0.01로 정합니다.\n",
        "# optimizer 설정. 경사 하강법 SGD를 사용하고 learning rate를 의미하는 lr은 0.01\n",
        "optimizer = torch. optim. SGD(model.parameters(),lr=0.01)"
      ],
      "metadata": {
        "id": "-oWi2KTRxlIw"
      },
      "execution_count": null,
      "outputs": []
    },
    {
      "cell_type": "code",
      "source": [
        "# 전체 훈련 데이터에 대해 경사 하강법 2,000회 반복\n",
        "\n",
        "nb_epochs=2000\n",
        "for epoch in range(nb_epochs+1):\n",
        "\n",
        "  #예측값 계산\n",
        "  prediction = model(x_train)\n",
        "\n",
        "  #cost 계산\n",
        "  cost=F.mse_loss(prediction, y_train) #  <== 파이토치에서 제공하는 평균 제곱 오차 함수\n",
        "\n",
        "  #cost로 예측값 개선하는 부분\n",
        "  #gradient를 0으로 초기화\n",
        "  optimizer.zero_grad()\n",
        "\n",
        "  #비용 함수를 미분하여 gradient를 계산\n",
        "  cost.backward() #backward연산, 미분\n",
        "\n",
        "  #w와 b를 업데이트\n",
        "  optimizer.step()\n",
        "\n",
        "  if epoch%100==0:\n",
        "    #100번마다 로그 출력\n",
        "    print('Epoch {:4d}/{} Cost: {:.6f}'.format(epoch, nb_epochs, cost.item()))\n"
      ],
      "metadata": {
        "colab": {
          "base_uri": "https://localhost:8080/"
        },
        "id": "dhSrUtVbyU7K",
        "outputId": "b39d1bd9-bcea-4289-8fdc-14f3d781ecf6"
      },
      "execution_count": null,
      "outputs": [
        {
          "output_type": "stream",
          "name": "stdout",
          "text": [
            "Epoch    0/2000 Cost: 13.103541\n",
            "Epoch  100/2000 Cost: 0.002791\n",
            "Epoch  200/2000 Cost: 0.001724\n",
            "Epoch  300/2000 Cost: 0.001066\n",
            "Epoch  400/2000 Cost: 0.000658\n",
            "Epoch  500/2000 Cost: 0.000407\n",
            "Epoch  600/2000 Cost: 0.000251\n",
            "Epoch  700/2000 Cost: 0.000155\n",
            "Epoch  800/2000 Cost: 0.000096\n",
            "Epoch  900/2000 Cost: 0.000059\n",
            "Epoch 1000/2000 Cost: 0.000037\n",
            "Epoch 1100/2000 Cost: 0.000023\n",
            "Epoch 1200/2000 Cost: 0.000014\n",
            "Epoch 1300/2000 Cost: 0.000009\n",
            "Epoch 1400/2000 Cost: 0.000005\n",
            "Epoch 1500/2000 Cost: 0.000003\n",
            "Epoch 1600/2000 Cost: 0.000002\n",
            "Epoch 1700/2000 Cost: 0.000001\n",
            "Epoch 1800/2000 Cost: 0.000001\n",
            "Epoch 1900/2000 Cost: 0.000000\n",
            "Epoch 2000/2000 Cost: 0.000000\n"
          ]
        }
      ]
    },
    {
      "cell_type": "markdown",
      "source": [
        "-  w와 b값이 최적화 되었는지 확인\n",
        "- x에 임의의 값 4를 넣어 모델이 예측하는 y의 값을 확인\n"
      ],
      "metadata": {
        "id": "4f_uBT8GzwGg"
      }
    },
    {
      "cell_type": "code",
      "source": [
        "# 임의의 입력 4를 선언\n",
        "new_var=torch.FloatTensor([[4.0]])\n",
        "# 입력한 값 4에 대해서 예측값 y를 리턴받아 pred_y에 저장\n",
        "pred_y=model(new_var) # forward연산\n",
        "# y = 2x 이므로 입력이 4라면 y가 8에 가까운 값이 나와야 제대로 학습이 된 것\n",
        "print(\"훈련 후 입력이 4일 때의 예측값 :\", pred_y)"
      ],
      "metadata": {
        "colab": {
          "base_uri": "https://localhost:8080/"
        },
        "id": "f9tKK_XazNE-",
        "outputId": "03755018-b1e2-4720-95ba-6c5067ccceec"
      },
      "execution_count": null,
      "outputs": [
        {
          "output_type": "stream",
          "name": "stdout",
          "text": [
            "훈련 후 입력이 4일 때의 예측값 : tensor([[7.9989]], grad_fn=<AddmmBackward0>)\n"
          ]
        }
      ]
    },
    {
      "cell_type": "markdown",
      "source": [
        "- y=2x가 정답이므로 4를 입력했을 떄 8에 매우 가까우면 w와 b 값이 어느정도 최적화 된 것으로 볼수 있다."
      ],
      "metadata": {
        "id": "fSTzx8ol0ON6"
      }
    },
    {
      "cell_type": "code",
      "source": [
        "print(list(model.parameters()))"
      ],
      "metadata": {
        "colab": {
          "base_uri": "https://localhost:8080/"
        },
        "id": "PxsIK38j0IV3",
        "outputId": "4c8c7d9d-75c2-4233-c089-4d47fb4b8d48"
      },
      "execution_count": null,
      "outputs": [
        {
          "output_type": "stream",
          "name": "stdout",
          "text": [
            "[Parameter containing:\n",
            "tensor([[1.9994]], requires_grad=True), Parameter containing:\n",
            "tensor([0.0014], requires_grad=True)]\n"
          ]
        }
      ]
    },
    {
      "cell_type": "markdown",
      "source": [
        "### 다중 선형 회귀 구현"
      ],
      "metadata": {
        "id": "jGuU7ol49wA-"
      }
    },
    {
      "cell_type": "code",
      "source": [
        "import torch\n",
        "import torch.nn as nn\n",
        "import torch.nn.functional as F"
      ],
      "metadata": {
        "id": "NFDQy4mj0e4f"
      },
      "execution_count": null,
      "outputs": []
    },
    {
      "cell_type": "code",
      "source": [
        "# 3개의 x로부터 하나의 y를 예측하는 문제\n",
        "# 데이터 정의\n",
        "x_train = torch.FloatTensor([[73, 80, 75],\n",
        "                             [93, 88, 93],\n",
        "                             [89, 91, 90],\n",
        "                             [96, 98, 100],\n",
        "                             [73, 66, 70]])\n",
        "y_train = torch.FloatTensor([[152], [185], [180], [196], [142]])"
      ],
      "metadata": {
        "id": "Pti_rzZQ96mO"
      },
      "execution_count": null,
      "outputs": []
    },
    {
      "cell_type": "code",
      "source": [
        "# 모델을 선언 및 초기화. 다중 선형 회귀이므로 input_dim=3, output_dim=1.\n",
        "model = nn.Linear(3,1)"
      ],
      "metadata": {
        "id": "NKBmkySl-Nwy"
      },
      "execution_count": null,
      "outputs": []
    },
    {
      "cell_type": "code",
      "source": [
        "print(list(model.parameters())) # 3개의 w값과 1개의 b값 -> 랜덤 초기화 되어있는 상"
      ],
      "metadata": {
        "colab": {
          "base_uri": "https://localhost:8080/"
        },
        "id": "zRV-hyde-TfM",
        "outputId": "9f86e1f6-a897-4bac-d128-3c61d06b4768"
      },
      "execution_count": null,
      "outputs": [
        {
          "output_type": "stream",
          "name": "stdout",
          "text": [
            "[Parameter containing:\n",
            "tensor([[ 0.1286,  0.3306, -0.1909]], requires_grad=True), Parameter containing:\n",
            "tensor([0.5474], requires_grad=True)]\n"
          ]
        }
      ]
    },
    {
      "cell_type": "code",
      "source": [
        "optimizer = torch.optim.SGD(model.parameters(),lr=1e-5)"
      ],
      "metadata": {
        "id": "9Hq8boIM-W5q"
      },
      "execution_count": null,
      "outputs": []
    },
    {
      "cell_type": "code",
      "source": [
        "nb_epochs=2000\n",
        "\n",
        "for epoch in range(nb_epochs+1):\n",
        "\n",
        "  #H(x) 계산\n",
        "  prediction= model(x_train)\n",
        "  # model(x_train)은 model.forward(x_train)과 동일\n",
        "\n",
        "  #cost 계산\n",
        "  cost= F.mse_loss(prediction, y_train)\n",
        "\n",
        "  #cost로 H(x) 개선하는 부분\n",
        "  #gradient 0으로 초기화\n",
        "  optimizer.zero_grad()\n",
        "  #비용함수를 미분하여 gradient를 계산\n",
        "  cost.backward()\n",
        "  #w와 b를 업데이트\n",
        "  optimizer.step()\n",
        "\n",
        "  if epoch%100==0:\n",
        "      print('Epoch {:4d}/{} Cost: {:.6f}'.format(\n",
        "          epoch, nb_epochs, cost.item()\n",
        "      ))"
      ],
      "metadata": {
        "colab": {
          "base_uri": "https://localhost:8080/"
        },
        "id": "Ye9ksHuz-pDW",
        "outputId": "0030355e-e5ad-4e55-c6c3-ee52d1f157bc"
      },
      "execution_count": null,
      "outputs": [
        {
          "output_type": "stream",
          "name": "stdout",
          "text": [
            "Epoch    0/2000 Cost: 22204.394531\n",
            "Epoch  100/2000 Cost: 3.543473\n",
            "Epoch  200/2000 Cost: 3.364566\n",
            "Epoch  300/2000 Cost: 3.195100\n",
            "Epoch  400/2000 Cost: 3.034569\n",
            "Epoch  500/2000 Cost: 2.882482\n",
            "Epoch  600/2000 Cost: 2.738466\n",
            "Epoch  700/2000 Cost: 2.602028\n",
            "Epoch  800/2000 Cost: 2.472766\n",
            "Epoch  900/2000 Cost: 2.350355\n",
            "Epoch 1000/2000 Cost: 2.234386\n",
            "Epoch 1100/2000 Cost: 2.124547\n",
            "Epoch 1200/2000 Cost: 2.020495\n",
            "Epoch 1300/2000 Cost: 1.921939\n",
            "Epoch 1400/2000 Cost: 1.828601\n",
            "Epoch 1500/2000 Cost: 1.740134\n",
            "Epoch 1600/2000 Cost: 1.656371\n",
            "Epoch 1700/2000 Cost: 1.577023\n",
            "Epoch 1800/2000 Cost: 1.501846\n",
            "Epoch 1900/2000 Cost: 1.430652\n",
            "Epoch 2000/2000 Cost: 1.363207\n"
          ]
        }
      ]
    },
    {
      "cell_type": "markdown",
      "source": [
        "- x에 임의의 입력 [73,80,75]를 넣어 모델이 예측하는 y의 값을 확인해보기"
      ],
      "metadata": {
        "id": "GYnvZbjF_jRw"
      }
    },
    {
      "cell_type": "code",
      "source": [
        "new_var=torch.FloatTensor([[73,80,75]])\n",
        "pred_y = model(new_var)\n",
        "print(\"훈련 후 입력이 73, 80, 75일 때의 예측값 :\", pred_y)"
      ],
      "metadata": {
        "colab": {
          "base_uri": "https://localhost:8080/"
        },
        "id": "mjNsKJ8m_YEc",
        "outputId": "9725c379-6363-4eb3-983a-6bb34da1bc7f"
      },
      "execution_count": null,
      "outputs": [
        {
          "output_type": "stream",
          "name": "stdout",
          "text": [
            "훈련 후 입력이 73, 80, 75일 때의 예측값 : tensor([[153.1346]], grad_fn=<AddmmBackward0>)\n"
          ]
        }
      ]
    },
    {
      "cell_type": "code",
      "source": [
        "print(list(model.parameters()))"
      ],
      "metadata": {
        "colab": {
          "base_uri": "https://localhost:8080/"
        },
        "id": "lIOq8QiH_3oB",
        "outputId": "6147acb2-7158-483a-8463-642461f75271"
      },
      "execution_count": null,
      "outputs": [
        {
          "output_type": "stream",
          "name": "stdout",
          "text": [
            "[Parameter containing:\n",
            "tensor([[0.8388, 0.7416, 0.4269]], requires_grad=True), Parameter containing:\n",
            "tensor([0.5556], requires_grad=True)]\n"
          ]
        }
      ]
    },
    {
      "cell_type": "code",
      "source": [],
      "metadata": {
        "id": "vK47sohw_8Bd"
      },
      "execution_count": null,
      "outputs": []
    }
  ]
}