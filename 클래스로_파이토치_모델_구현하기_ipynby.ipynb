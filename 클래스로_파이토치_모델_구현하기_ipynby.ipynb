{
  "nbformat": 4,
  "nbformat_minor": 0,
  "metadata": {
    "colab": {
      "provenance": [],
      "authorship_tag": "ABX9TyM9N9FfGdSfUjze4nJbvKcf",
      "include_colab_link": true
    },
    "kernelspec": {
      "name": "python3",
      "display_name": "Python 3"
    },
    "language_info": {
      "name": "python"
    }
  },
  "cells": [
    {
      "cell_type": "markdown",
      "metadata": {
        "id": "view-in-github",
        "colab_type": "text"
      },
      "source": [
        "<a href=\"https://colab.research.google.com/github/tlsdmswn01/PyTorch_Study/blob/main/%ED%81%B4%EB%9E%98%EC%8A%A4%EB%A1%9C_%ED%8C%8C%EC%9D%B4%ED%86%A0%EC%B9%98_%EB%AA%A8%EB%8D%B8_%EA%B5%AC%ED%98%84%ED%95%98%EA%B8%B0_ipynby.ipynb\" target=\"_parent\"><img src=\"https://colab.research.google.com/assets/colab-badge.svg\" alt=\"Open In Colab\"/></a>"
      ]
    },
    {
      "cell_type": "markdown",
      "source": [
        "## 모델을 클래스로 구현하기"
      ],
      "metadata": {
        "id": "BBDq7l3QArbd"
      }
    },
    {
      "cell_type": "code",
      "source": [
        "import torch\n",
        "import torch.nn as nn\n",
        "import torch.nn.functional as F"
      ],
      "metadata": {
        "id": "rX4AxU4XBErC"
      },
      "execution_count": null,
      "outputs": []
    },
    {
      "cell_type": "code",
      "execution_count": null,
      "metadata": {
        "id": "IlO5ALq1Aj7H"
      },
      "outputs": [],
      "source": [
        "# 모델을 선언 및 초기화. 단순 선형 회귀로 input_dim=1. output_dim=1\n",
        "model=nn.Linear(1,1)"
      ]
    },
    {
      "cell_type": "code",
      "source": [
        "# 클래스로 구현\n",
        "class LinearRegressionModel(nn.Module): #torch.nn.Module을 상속받는 파이썬 클래스\n",
        "  def __init__(self): # 모델의 구조와 동작을 정의하는 생성자\n",
        "    super().__init__() # nn.Module 클래스의 속성들을 가지고 초기화\n",
        "    self.linear=nn.Linear(1,1)\n",
        "\n",
        "  def forward(self,x): #forward() 함수는 model 객체를 데이터와 함께 호출하면 자동으로 실행\n",
        "    return self.linear(x)"
      ],
      "metadata": {
        "id": "sSX2Jxk5BBpe"
      },
      "execution_count": null,
      "outputs": []
    },
    {
      "cell_type": "code",
      "source": [
        "model = LinearRegressionModel()"
      ],
      "metadata": {
        "id": "iJSL4SWMBb0K"
      },
      "execution_count": null,
      "outputs": []
    },
    {
      "cell_type": "code",
      "source": [
        "class MultiLinearRegressionModel(nn.Module):\n",
        "  def __init__(self):\n",
        "    super().__init__()\n",
        "    self.linear=nn.Linear(3,1)\n",
        "\n",
        "  def forward(self,x):\n",
        "    return self.linear(x)\n"
      ],
      "metadata": {
        "id": "uF68sxITBdRr"
      },
      "execution_count": null,
      "outputs": []
    },
    {
      "cell_type": "code",
      "source": [
        "model=MultiLinearRegressionModel()"
      ],
      "metadata": {
        "id": "Yr5z9hMHB2ZG"
      },
      "execution_count": null,
      "outputs": []
    },
    {
      "cell_type": "markdown",
      "source": [
        "### 단순 선형 회귀 클래스 구현\n"
      ],
      "metadata": {
        "id": "26Aw12hYCPa3"
      }
    },
    {
      "cell_type": "code",
      "source": [
        "import torch\n",
        "import torch.nn as nn\n",
        "import torch.nn.functional as F\n",
        "\n",
        "torch.manual_seed(1)"
      ],
      "metadata": {
        "colab": {
          "base_uri": "https://localhost:8080/"
        },
        "id": "K_s49ZG9CEtj",
        "outputId": "69740168-6e5c-4398-8ad7-560c4ed44894"
      },
      "execution_count": null,
      "outputs": [
        {
          "output_type": "execute_result",
          "data": {
            "text/plain": [
              "<torch._C.Generator at 0x7c52eb022250>"
            ]
          },
          "metadata": {},
          "execution_count": 14
        }
      ]
    },
    {
      "cell_type": "code",
      "source": [
        "# 데이터\n",
        "x_train = torch.FloatTensor([[1], [2], [3]])\n",
        "y_train = torch.FloatTensor([[2], [4], [6]])"
      ],
      "metadata": {
        "id": "nyRIOfqnCWLY"
      },
      "execution_count": null,
      "outputs": []
    },
    {
      "cell_type": "code",
      "source": [
        "class Linearregression(nn.Module):\n",
        "  def __init__(self):\n",
        "    super().__init__()\n",
        "    self.linear=nn.Linear(1,1)\n",
        "\n",
        "  def forward(self,x):\n",
        "    return self.linear(x)\n"
      ],
      "metadata": {
        "id": "OR0Ycg4-CcBV"
      },
      "execution_count": null,
      "outputs": []
    },
    {
      "cell_type": "code",
      "source": [
        "model=Linearregression()"
      ],
      "metadata": {
        "id": "94lSkv6dCdbl"
      },
      "execution_count": null,
      "outputs": []
    },
    {
      "cell_type": "code",
      "source": [
        "optimizer=torch.optim.SGD(model.parameters(),lr=0.01)"
      ],
      "metadata": {
        "id": "bXwUB5hFCyoN"
      },
      "execution_count": null,
      "outputs": []
    },
    {
      "cell_type": "code",
      "source": [
        "nb_epochs=2000\n",
        "for epoch in range(nb_epochs+1):\n",
        "\n",
        "  #H(x)계산\n",
        "  prediction=model(x_train)\n",
        "\n",
        "  #cost 계산\n",
        "  cost=F.mse_loss(prediction, y_train)\n",
        "\n",
        "  #optim 0으로 초기화\n",
        "  optimizer.zero_grad()\n",
        "  cost.backward()\n",
        "  optimizer.step()\n",
        "\n",
        "  if epoch%100==0:\n",
        "    print('Epoch{:4d}/{} Cost:{:6f}'.format(epoch,nb_epochs,cost.item()))"
      ],
      "metadata": {
        "colab": {
          "base_uri": "https://localhost:8080/"
        },
        "id": "B5v8uWHfDAWX",
        "outputId": "5c611d6c-5aeb-4f63-8748-f34d5407a0be"
      },
      "execution_count": null,
      "outputs": [
        {
          "output_type": "stream",
          "name": "stdout",
          "text": [
            "Epoch   0/2000 Cost:10.358571\n",
            "Epoch 100/2000 Cost:0.002777\n",
            "Epoch 200/2000 Cost:0.001716\n",
            "Epoch 300/2000 Cost:0.001060\n",
            "Epoch 400/2000 Cost:0.000655\n",
            "Epoch 500/2000 Cost:0.000405\n",
            "Epoch 600/2000 Cost:0.000250\n",
            "Epoch 700/2000 Cost:0.000155\n",
            "Epoch 800/2000 Cost:0.000096\n",
            "Epoch 900/2000 Cost:0.000059\n",
            "Epoch1000/2000 Cost:0.000036\n",
            "Epoch1100/2000 Cost:0.000023\n",
            "Epoch1200/2000 Cost:0.000014\n",
            "Epoch1300/2000 Cost:0.000009\n",
            "Epoch1400/2000 Cost:0.000005\n",
            "Epoch1500/2000 Cost:0.000003\n",
            "Epoch1600/2000 Cost:0.000002\n",
            "Epoch1700/2000 Cost:0.000001\n",
            "Epoch1800/2000 Cost:0.000001\n",
            "Epoch1900/2000 Cost:0.000000\n",
            "Epoch2000/2000 Cost:0.000000\n"
          ]
        }
      ]
    },
    {
      "cell_type": "code",
      "source": [
        "print(list(model.parameters()))"
      ],
      "metadata": {
        "colab": {
          "base_uri": "https://localhost:8080/"
        },
        "id": "SB5-wdK3Dk9Z",
        "outputId": "aff26dc9-8e25-4ac6-8bdf-08563ced4ded"
      },
      "execution_count": null,
      "outputs": [
        {
          "output_type": "stream",
          "name": "stdout",
          "text": [
            "[Parameter containing:\n",
            "tensor([[1.9994]], requires_grad=True), Parameter containing:\n",
            "tensor([0.0014], requires_grad=True)]\n"
          ]
        }
      ]
    },
    {
      "cell_type": "markdown",
      "source": [
        "### 다중 선형회귀 모델"
      ],
      "metadata": {
        "id": "V-ksgS_-DsS6"
      }
    },
    {
      "cell_type": "code",
      "source": [
        "class Multi(nn.Module):\n",
        "  def __init__(self):\n",
        "    super().__init__()\n",
        "    self.linear=nn.Linear(3,1)\n",
        "\n",
        "  def forward(self,x):\n",
        "    return self.linear(x)"
      ],
      "metadata": {
        "id": "vpbN6q7lDqVm"
      },
      "execution_count": null,
      "outputs": []
    },
    {
      "cell_type": "code",
      "source": [
        "model=Multi()"
      ],
      "metadata": {
        "id": "5JtyN_upTzQS"
      },
      "execution_count": null,
      "outputs": []
    },
    {
      "cell_type": "code",
      "source": [
        "# 데이터\n",
        "x_train = torch.FloatTensor([[73, 80, 75],\n",
        "                             [93, 88, 93],\n",
        "                             [89, 91, 90],\n",
        "                             [96, 98, 100],\n",
        "                             [73, 66, 70]])\n",
        "y_train = torch.FloatTensor([[152], [185], [180], [196], [142]])"
      ],
      "metadata": {
        "id": "eD5VztIKT0mc"
      },
      "execution_count": null,
      "outputs": []
    },
    {
      "cell_type": "code",
      "source": [
        "optimizer=torch.optim.SGD(model.parameters(),lr=1e-5)"
      ],
      "metadata": {
        "id": "MoVvfTuET4v9"
      },
      "execution_count": null,
      "outputs": []
    },
    {
      "cell_type": "code",
      "source": [
        "epochs=2000\n",
        "for epoch in range(epochs+1):\n",
        "\n",
        "  prediction=model(x_train)\n",
        "\n",
        "  cost=F.mse_loss(prediction,y_train)\n",
        "\n",
        "  optimizer.zero_grad()\n",
        "  cost.backward()\n",
        "  optimizer.step()\n",
        "\n",
        "\n",
        "  if epoch%100==0:\n",
        "\n",
        "    print('Epoch:{:4d}/{} Cost:{}'.format(epoch,epochs,cost.item()))"
      ],
      "metadata": {
        "colab": {
          "base_uri": "https://localhost:8080/"
        },
        "id": "-AsTd2D5UFKb",
        "outputId": "5169453a-7e3f-43a9-b556-587a606f4e4e"
      },
      "execution_count": null,
      "outputs": [
        {
          "output_type": "stream",
          "name": "stdout",
          "text": [
            "Epoch:   0/2000 Cost:19085.046875\n",
            "Epoch: 100/2000 Cost:0.9540506601333618\n",
            "Epoch: 200/2000 Cost:0.9251181483268738\n",
            "Epoch: 300/2000 Cost:0.8976455926895142\n",
            "Epoch: 400/2000 Cost:0.8715797662734985\n",
            "Epoch: 500/2000 Cost:0.8468269109725952\n",
            "Epoch: 600/2000 Cost:0.8233121037483215\n",
            "Epoch: 700/2000 Cost:0.8009885549545288\n",
            "Epoch: 800/2000 Cost:0.7797815203666687\n",
            "Epoch: 900/2000 Cost:0.7596341371536255\n",
            "Epoch:1000/2000 Cost:0.7404940724372864\n",
            "Epoch:1100/2000 Cost:0.7223042249679565\n",
            "Epoch:1200/2000 Cost:0.7050129771232605\n",
            "Epoch:1300/2000 Cost:0.6885821223258972\n",
            "Epoch:1400/2000 Cost:0.6729573011398315\n",
            "Epoch:1500/2000 Cost:0.658107578754425\n",
            "Epoch:1600/2000 Cost:0.643979549407959\n",
            "Epoch:1700/2000 Cost:0.63054358959198\n",
            "Epoch:1800/2000 Cost:0.6177762746810913\n",
            "Epoch:1900/2000 Cost:0.6056073904037476\n",
            "Epoch:2000/2000 Cost:0.5940291881561279\n"
          ]
        }
      ]
    },
    {
      "cell_type": "code",
      "source": [
        "prediction=model(x_train)\n",
        "print(prediction,y_train)"
      ],
      "metadata": {
        "colab": {
          "base_uri": "https://localhost:8080/"
        },
        "id": "Ci18uY7rUm3t",
        "outputId": "0e95b27c-d7c8-4070-e7a2-b613b8b7749a"
      },
      "execution_count": null,
      "outputs": [
        {
          "output_type": "stream",
          "name": "stdout",
          "text": [
            "tensor([[151.7087],\n",
            "        [184.4086],\n",
            "        [180.6366],\n",
            "        [196.9685],\n",
            "        [140.9084]], grad_fn=<AddmmBackward0>) tensor([[152.],\n",
            "        [185.],\n",
            "        [180.],\n",
            "        [196.],\n",
            "        [142.]])\n"
          ]
        }
      ]
    },
    {
      "cell_type": "code",
      "source": [],
      "metadata": {
        "id": "BMhovbq0U08R"
      },
      "execution_count": null,
      "outputs": []
    }
  ]
}